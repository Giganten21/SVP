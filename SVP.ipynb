{
 "cells": [
  {
   "cell_type": "code",
   "execution_count": 3,
   "metadata": {},
   "outputs": [],
   "source": [
    "import numpy as np \n",
    "import matplotlib.pyplot as plt\n",
    "import scipy.constants as sc"
   ]
  },
  {
   "cell_type": "code",
   "execution_count": 50,
   "metadata": {},
   "outputs": [],
   "source": [
    "#Constats\n",
    "#Material\n",
    "decanol1 = {'m':158.285,\n",
    "            'n_atom':33,\n",
    "            'DOF':99,\n",
    "            'rho_l':830,\n",
    "            'c_l': 1600,\n",
    "            'p*':1.3,\n",
    "            'T*':298.15,\n",
    "            'deltaH_vap':8.1*10**4}\n",
    "\n",
    "#Chamber\n",
    "chamber = {'Volume V_ch':10**(-2),\n",
    "           'Surface area A_ch':0.7,\n",
    "           'Pumping speed S_p':50*10**(-3),\n",
    "           'wall leak flux j_w':3*10**12,\n",
    "           'liquid vol V_l':1*10**(-6),\n",
    "           'surface area A_l':4.66*10**(-4)}\n",
    "\n",
    "#Set parameters in use\n",
    "m, n_atom, D, rho_l, c_l, p_star, T_star, deltaH_vap = decanol1.values()\n",
    "V_ch, A_ch, S_p, j_w, V_l, A_l = chamber.values()\n",
    "t_s = 10**3 #tau_s\n",
    "\n",
    "\n",
    "#Start values\n",
    "T_l = 305\n",
    "P_v = 0.7\n",
    "T_v = 298"
   ]
  },
  {
   "cell_type": "code",
   "execution_count": 51,
   "metadata": {},
   "outputs": [],
   "source": [
    "def P_sat(T):\n",
    "    if T <= T_star:\n",
    "        raise ValueError('T must be bigger than T*')\n",
    "    else:\n",
    "        return p_star * np.log(- deltaH_vap / (sc.k * sc.N_A) * (1/T - 1/T_star))\n",
    "\n",
    "def j_ev():\n",
    "    sigma_e = P_sat(T_l) / P_v * np.exp( (D+4) * (1 - T_v/T_l) ) * (T_v/T_l)**(D+4)\n",
    "    sigma_c = np.sqrt(T_v/T_l) * np.exp( -(D+4) * (1 - T_v/T_l) ) * (T_v/T_l)**(-(D+4))\n",
    "    \n",
    "    return np.sqrt(1/(2*np.pi*m*sc.k)) * ( sigma_e * P_sat(T_l)/np.sqrt(T_l) - sigma_c * P_v/np.sqrt(T_l) )\n",
    "\n",
    "def delta_valve(t):\n",
    "    if t > 10:\n",
    "        return 0\n",
    "    else:\n",
    "        return 1\n",
    "\n",
    "def dpdt(j_ev, delta_valve):\n",
    "    print(A_l/V_ch * sc.k * T_v * j_ev)\n",
    "    print(A_ch/V_ch * sc.k * T_v * j_w)\n",
    "    print(- S_p/V_ch * P_v * delta_valve)\n",
    "    return A_l/V_ch * sc.k * T_v * j_ev + A_ch/V_ch * sc.k * T_v * j_w - S_p/V_ch * P_v * delta_valve\n",
    "\n",
    "def dTdt(j_ev):\n",
    "    return - ( A_l * deltaH_vap) / ( sc.N_A * rho_l * V_l * c_l) * j_ev + ( T_v - T_l) / t_s\n",
    "\n",
    "def dVdt(j_ev):\n",
    "    return - m/(rho_l * A_l) * j_ev"
   ]
  },
  {
   "cell_type": "code",
   "execution_count": 52,
   "metadata": {},
   "outputs": [
    {
     "name": "stdout",
     "output_type": "stream",
     "text": [
      "-4.5563934300828864e-14\n",
      "8.640101442000001e-07\n",
      "-3.5\n",
      "0.7 305 1e-06\n",
      "-3.4999991359899014 -0.006999999999988783 97254902998.02599 1 -237648869.95973402\n"
     ]
    }
   ],
   "source": [
    "pressure = [P_v]\n",
    "liquid_temparature = [T_l]\n",
    "liquid_volume = [V_l]\n",
    "time = np.linspace(10**(-1), 10**4, 1000000)\n",
    "\n",
    "for t in time:\n",
    "    #Calc j_ev\n",
    "    j = j_ev()\n",
    "\n",
    "    valve = delta_valve(t)\n",
    "\n",
    "    #Calculate change\n",
    "    dp = dpdt(j, valve)\n",
    "    dT = dTdt(j)\n",
    "    dV = dVdt(j)\n",
    "\n",
    "    print(P_v,T_l,V_l)\n",
    "    #Add change to value\n",
    "    # P_v += dp\n",
    "    # T_l += dT\n",
    "    # V_l += dV\n",
    "\n",
    "    #Add to list\n",
    "    pressure.append(P_v)\n",
    "    liquid_temparature.append(T_l)\n",
    "    liquid_volume.append(V_l)\n",
    "\n",
    "    \n",
    "    print(dp,dT,dV, valve,j)\n",
    "    break\n",
    "\n"
   ]
  },
  {
   "cell_type": "code",
   "execution_count": 41,
   "metadata": {},
   "outputs": [
    {
     "data": {
      "text/plain": [
       "[0.005, 0.005]"
      ]
     },
     "execution_count": 41,
     "metadata": {},
     "output_type": "execute_result"
    }
   ],
   "source": [
    "pressure\n"
   ]
  },
  {
   "cell_type": "code",
   "execution_count": 25,
   "metadata": {},
   "outputs": [
    {
     "data": {
      "text/plain": [
       "99"
      ]
     },
     "execution_count": 25,
     "metadata": {},
     "output_type": "execute_result"
    }
   ],
   "source": [
    "D"
   ]
  },
  {
   "cell_type": "code",
   "execution_count": null,
   "metadata": {},
   "outputs": [],
   "source": []
  }
 ],
 "metadata": {
  "kernelspec": {
   "display_name": "Python 3",
   "language": "python",
   "name": "python3"
  },
  "language_info": {
   "codemirror_mode": {
    "name": "ipython",
    "version": 3
   },
   "file_extension": ".py",
   "mimetype": "text/x-python",
   "name": "python",
   "nbconvert_exporter": "python",
   "pygments_lexer": "ipython3",
   "version": "3.10.9"
  },
  "orig_nbformat": 4
 },
 "nbformat": 4,
 "nbformat_minor": 2
}
