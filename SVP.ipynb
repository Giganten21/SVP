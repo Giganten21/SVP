{
 "cells": [
  {
   "cell_type": "code",
   "execution_count": 1,
   "metadata": {},
   "outputs": [],
   "source": [
    "import numpy as np\n",
    "import scipy.constants as sc\n",
    "from scipy.integrate import solve_ivp, odeint\n",
    "import matplotlib.pyplot as plt"
   ]
  },
  {
   "cell_type": "code",
   "execution_count": 2,
   "metadata": {},
   "outputs": [],
   "source": [
    "#Constats\n",
    "#Material\n",
    "decanol1 = {'m':158.285, #amu\n",
    "            'n_atom':33, \n",
    "            'DOF':99,\n",
    "            'rho_l':830, #kg m^-3\n",
    "            'c_l': 1600, #J kg^-1 K^-1\n",
    "            'p*':1.3, #Pa\n",
    "            'T*':298.15, #K\n",
    "            'deltaH_vap':8.1*10**4 #J / mole\n",
    "        }\n",
    "\n",
    "#Chamber\n",
    "chamber = {'Volume V_ch':10**(-2), #m^3\n",
    "           'Surface area A_ch':0.7, #m^2\n",
    "           'Pumping speed S_p':50*10**(-3), #m^3 s^-1\n",
    "           'wall leak flux j_w':3*10**12, #m^-2 s^-1\n",
    "           'liquid vol V_l':3*10**(-6), #m^3\n",
    "           'surface area A_l':4.66*10**(-4) #m^2\n",
    "        }\n",
    "\n",
    "#Set parameters in use\n",
    "m, n_atom, D, rho_l, c_l, p_star, T_star, deltaH_vap = decanol1.values()\n",
    "V_ch, A_ch, S_p, j_w, V_l, A_l = chamber.values()\n",
    "t_s = 10**3 #tau_s\n"
   ]
  },
  {
   "cell_type": "code",
   "execution_count": 8,
   "metadata": {},
   "outputs": [],
   "source": [
    "\n",
    "# Set parameters\n",
    "m, n_atom, DOF, rho_l, c_l, p_star, T_star, deltaH_vap = decanol1.values()\n",
    "V_ch, A_ch, S_p, j_w, V_l, A_l = chamber.values()\n",
    "t_s = 10**3  # tau_s in seconds\n",
    "p_star = p_star * 1e5  # Convert p* from bar to Pa\n",
    "m = m * 1.66053907 * 10**(-27)  # Convert mass from atomic units to kg\n",
    "\n",
    "# Starting values\n",
    "T_l = 35 + 273.15  # Liquid temperature in K\n",
    "P_v = 10**(-5)    # Vapor pressure in Pa (initial 0.7 bar)\n",
    "T_v = 273.15 + 10  # Vapor temperature in K\n",
    "\n",
    "def delta_valve(t):\n",
    "    if t > 10:\n",
    "        return 0\n",
    "    else:\n",
    "        return 1\n",
    "\n",
    "def P_sat(T):\n",
    "    return p_star * np.log( - deltaH_vap / (sc.k * sc.N_A) * (1/T - 1/T_star) ) #T must be larger than T*\n",
    "\n",
    "def j_ev(T_l, P_v):\n",
    "    sigma_e = (P_sat(T_l)/P_v) * np.exp( (DOF +4) * (1 - T_v/T_l) ) * (T_v/T_l) ** (DOF+4)\n",
    "    sigma_c = np.sqrt( T_v/T_l ) * np.exp( -(DOF+4) * (1 - T_v/T_l) ) * (T_v/T_l) ** (-(DOF + 4))\n",
    "\n",
    "    return np.sqrt( 1/ (2 * np.pi * m * sc.k) ) * ( sigma_e * P_sat(T_l) / np.sqrt( T_l ) - sigma_c * P_v / np.sqrt( T_l ) )\n",
    "\n",
    "def system(y, time):\n",
    "    P_v, T_l, V_l = y\n",
    "    jev = j_ev(T_l, P_v)\n",
    "\n",
    "    dp_vdt = A_l / V_ch * sc.k * T_v * jev + A_ch / V_ch * sc.k * T_v * j_w - S_p / V_ch * P_v * delta_valve(time)\n",
    "\n",
    "    dT_ldt = - A_l * deltaH_vap / ( sc.N_A * rho_l * V_l * c_l ) * jev + ( T_v - T_l) / t_s\n",
    "\n",
    "    dV_ldt = - m / ( rho_l * A_l ) * jev\n",
    "\n",
    "    return [dp_vdt, dT_ldt, dV_ldt]\n"
   ]
  },
  {
   "cell_type": "code",
   "execution_count": 9,
   "metadata": {},
   "outputs": [],
   "source": [
    "time = np.linspace(0, 10**4, 100000)\n",
    "solution = odeint(system, y0=np.array([P_v, T_l, V_l]), t=time)"
   ]
  },
  {
   "cell_type": "code",
   "execution_count": 10,
   "metadata": {},
   "outputs": [
    {
     "data": {
      "text/plain": [
       "array([[1.00000000e-05, 3.08150000e+02, 3.00000000e-06],\n",
       "       [8.14233520e-04, 3.08136161e+02, 9.38085281e-87],\n",
       "       [0.00000000e+00, 0.00000000e+00, 0.00000000e+00],\n",
       "       ...,\n",
       "       [0.00000000e+00, 0.00000000e+00, 0.00000000e+00],\n",
       "       [0.00000000e+00, 0.00000000e+00, 0.00000000e+00],\n",
       "       [0.00000000e+00, 0.00000000e+00, 0.00000000e+00]])"
      ]
     },
     "execution_count": 10,
     "metadata": {},
     "output_type": "execute_result"
    }
   ],
   "source": [
    "solution"
   ]
  },
  {
   "cell_type": "code",
   "execution_count": 11,
   "metadata": {},
   "outputs": [
    {
     "name": "stderr",
     "output_type": "stream",
     "text": [
      "C:\\Users\\andre\\AppData\\Local\\Temp\\ipykernel_7568\\602373541.py:24: RuntimeWarning: invalid value encountered in sqrt\n",
      "  sigma_c = np.sqrt( T_v/T_l ) * np.exp( -(DOF+4) * (1 - T_v/T_l) ) * (T_v/T_l) ** (-(DOF + 4))\n",
      "C:\\Users\\andre\\AppData\\Local\\Temp\\ipykernel_7568\\602373541.py:24: RuntimeWarning: overflow encountered in double_scalars\n",
      "  sigma_c = np.sqrt( T_v/T_l ) * np.exp( -(DOF+4) * (1 - T_v/T_l) ) * (T_v/T_l) ** (-(DOF + 4))\n",
      "C:\\Users\\andre\\AppData\\Local\\Temp\\ipykernel_7568\\602373541.py:26: RuntimeWarning: invalid value encountered in sqrt\n",
      "  return np.sqrt( 1/ (2 * np.pi * m * sc.k) ) * ( sigma_e * P_sat(T_l) / np.sqrt( T_l ) - sigma_c * P_v / np.sqrt( T_l ) )\n"
     ]
    },
    {
     "name": "stdout",
     "output_type": "stream",
     "text": [
      "[1e-05, 88157623930.05388] [308.15, -7613332491.955169] [3e-06, -328850844.02626395]\n"
     ]
    }
   ],
   "source": [
    "\n",
    "pressure = [P_v]\n",
    "liquid_temparature = [T_l]\n",
    "liquid_volume = [V_l]\n",
    "time = np.linspace(10**(-1), 10**4, 1000000)\n",
    "\n",
    "for t in range(len(time)):\n",
    "    #Calc j_ev\n",
    "    \n",
    "    # print(t, time[t])\n",
    "    delta = 0.01\n",
    "    #Calculate change\n",
    "    # dp = A_l/V_ch * sc.k * T_v * j + A_ch/V_ch * sc.k * T_v * j_w - S_p/V_ch * P_v * valve\n",
    "    # dT =  - ( A_l * deltaH_vap) / ( sc.N_A * rho_l * V_l * c_l) * j + ( T_v - T_l) / t_s\n",
    "    # dV = - m/(rho_l * A_l) * j\n",
    "    \n",
    "    dp, dT, dV = system([pressure[-1], liquid_temparature[-1], liquid_volume[-1]], t)\n",
    "    # print(P_v,T_l,V_l)\n",
    "    if t == 1:\n",
    "        print(pressure,liquid_temparature,liquid_volume)\n",
    "    #Add change to value\n",
    "    P_v += dp*delta\n",
    "    T_l += dT*delta\n",
    "    V_l += dV*delta\n",
    "\n",
    "    #Add to list\n",
    "    pressure.append(P_v)\n",
    "    liquid_temparature.append(T_l)\n",
    "    liquid_volume.append(V_l)\n"
   ]
  },
  {
   "cell_type": "code",
   "execution_count": 7,
   "metadata": {},
   "outputs": [
    {
     "data": {
      "image/png": "[encoded data removed]",
      "text/plain": [
       "<Figure size 640x480 with 1 Axes>"
      ]
     },
     "metadata": {},
     "output_type": "display_data"
    }
   ],
   "source": [
    "plt.plot(time, pressure[:-1])\n",
    "plt.xscale(\"log\")"
   ]
  },
  {
   "cell_type": "code",
   "execution_count": 176,
   "metadata": {},
   "outputs": [
    {
     "name": "stderr",
     "output_type": "stream",
     "text": [
      "C:\\Users\\andre\\AppData\\Local\\Temp\\ipykernel_7800\\2315928056.py:20: RuntimeWarning: invalid value encountered in log\n",
      "  return p_star * np.log( - deltaH_vap / (sc.k * sc.N_A) * (1/T - 1/T_star) ) #T must be larger than T*\n",
      "C:\\Users\\andre\\AppData\\Local\\Temp\\ipykernel_7800\\2315928056.py:20: RuntimeWarning: divide by zero encountered in log\n",
      "  return p_star * np.log( - deltaH_vap / (sc.k * sc.N_A) * (1/T - 1/T_star) ) #T must be larger than T*\n",
      "C:\\Users\\andre\\AppData\\Local\\Temp\\ipykernel_7800\\2315928056.py:24: RuntimeWarning: divide by zero encountered in double_scalars\n",
      "  sigma_c = np.sqrt( T_v/T_l ) * np.exp( -(DOF+4) * (1 - T_v/T_l) ) * (T_v/T_l) ** (-(DOF + 4))\n",
      "C:\\Users\\andre\\AppData\\Local\\Temp\\ipykernel_7800\\2315928056.py:24: RuntimeWarning: invalid value encountered in double_scalars\n",
      "  sigma_c = np.sqrt( T_v/T_l ) * np.exp( -(DOF+4) * (1 - T_v/T_l) ) * (T_v/T_l) ** (-(DOF + 4))\n",
      "C:\\Users\\andre\\AppData\\Local\\Temp\\ipykernel_7800\\2315928056.py:32: RuntimeWarning: invalid value encountered in double_scalars\n",
      "  dp_vdt = A_l / V_ch * sc.k * T_v * jev + A_ch / V_ch * sc.k * T_v * j_w - S_p / V_ch * P_v * delta_valve(time)\n",
      "C:\\Users\\andre\\AppData\\Local\\Temp\\ipykernel_7800\\2315928056.py:26: RuntimeWarning: invalid value encountered in sqrt\n",
      "  return np.sqrt( 1/ (2 * np.pi * m * sc.k) ) * ( sigma_e * P_sat(T_l) / np.sqrt( T_l ) - sigma_c * P_v / np.sqrt( T_l ) )\n"
     ]
    },
    {
     "data": {
      "text/plain": [
       "array([[ 2.96440053e+03,  3.01815554e+03,  3.06294868e+03, ...,\n",
       "         9.60852969e+05,  9.75140996e+05,  9.98694986e+05],\n",
       "       [ 3.08148534e+02,  3.08148287e+02,  3.08148041e+02, ...,\n",
       "         2.98150299e+02,  2.98150150e+02,  2.98150001e+02],\n",
       "       [-1.52755855e+01, -1.60343857e+01, -1.67690049e+01, ...,\n",
       "        -4.07732584e+03, -4.13062390e+03, -4.21848640e+03]])"
      ]
     },
     "execution_count": 176,
     "metadata": {},
     "output_type": "execute_result"
    }
   ],
   "source": [
    "sol = solve_ivp(system, t_span=(0,10**4), y0=np.array([P_v, T_l, V_l]), t_eval=time, method=\"RK45\" )\n",
    "sol.y\n"
   ]
  },
  {
   "cell_type": "code",
   "execution_count": 14,
   "metadata": {},
   "outputs": [
    {
     "name": "stdout",
     "output_type": "stream",
     "text": [
      "nan\n"
     ]
    },
    {
     "data": {
      "text/plain": [
       "nan"
      ]
     },
     "execution_count": 14,
     "metadata": {},
     "output_type": "execute_result"
    }
   ],
   "source": [
    "jev = j_ev(T_l, P_v)\n",
    "print(jev)\n",
    "A_l / V_ch * sc.k * T_v * jev + A_ch / V_ch * sc.k * T_v * j_w - S_p / V_ch * P_v * delta_valve(1)\n"
   ]
  }
 ],
 "metadata": {
  "kernelspec": {
   "display_name": "Python 3",
   "language": "python",
   "name": "python3"
  },
  "language_info": {
   "codemirror_mode": {
    "name": "ipython",
    "version": 3
   },
   "file_extension": ".py",
   "mimetype": "text/x-python",
   "name": "python",
   "nbconvert_exporter": "python",
   "pygments_lexer": "ipython3",
   "version": "3.10.2"
  },
  "orig_nbformat": 4
 },
 "nbformat": 4,
 "nbformat_minor": 2
}
